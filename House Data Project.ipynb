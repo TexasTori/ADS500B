{
 "cells": [
  {
   "cell_type": "code",
   "execution_count": 3,
   "id": "ba8ce860",
   "metadata": {},
   "outputs": [],
   "source": [
    "import pandas as pd\n",
    "import matplotlib.pyplot as plt\n",
    "from scipy.stats import trim_mean"
   ]
  },
  {
   "cell_type": "code",
   "execution_count": 24,
   "id": "1abcb9fc",
   "metadata": {},
   "outputs": [],
   "source": [
    "file_path = '/Users/bobbymarriott/Desktop/Project/house_sales.csv'"
   ]
  },
  {
   "cell_type": "code",
   "execution_count": 25,
   "id": "e83c3f1e",
   "metadata": {},
   "outputs": [],
   "source": [
    "# Loading the filepath into a variable and then printing the first five rows of the csv file\n",
    "\n",
    "df = pd.read_csv(file_path)"
   ]
  },
  {
   "cell_type": "code",
   "execution_count": 26,
   "id": "af07c507",
   "metadata": {},
   "outputs": [
    {
     "data": {
      "text/html": [
       "<div>\n",
       "<style scoped>\n",
       "    .dataframe tbody tr th:only-of-type {\n",
       "        vertical-align: middle;\n",
       "    }\n",
       "\n",
       "    .dataframe tbody tr th {\n",
       "        vertical-align: top;\n",
       "    }\n",
       "\n",
       "    .dataframe thead th {\n",
       "        text-align: right;\n",
       "    }\n",
       "</style>\n",
       "<table border=\"1\" class=\"dataframe\">\n",
       "  <thead>\n",
       "    <tr style=\"text-align: right;\">\n",
       "      <th></th>\n",
       "      <th>id</th>\n",
       "      <th>date</th>\n",
       "      <th>price</th>\n",
       "      <th>bedrooms</th>\n",
       "      <th>bathrooms</th>\n",
       "      <th>sqft_living</th>\n",
       "      <th>sqft_lot</th>\n",
       "      <th>floors</th>\n",
       "      <th>waterfront</th>\n",
       "      <th>view</th>\n",
       "      <th>...</th>\n",
       "      <th>grade</th>\n",
       "      <th>sqft_above</th>\n",
       "      <th>sqft_basement</th>\n",
       "      <th>yr_built</th>\n",
       "      <th>yr_renovated</th>\n",
       "      <th>zipcode</th>\n",
       "      <th>lat</th>\n",
       "      <th>long</th>\n",
       "      <th>sqft_living15</th>\n",
       "      <th>sqft_lot15</th>\n",
       "    </tr>\n",
       "  </thead>\n",
       "  <tbody>\n",
       "    <tr>\n",
       "      <th>0</th>\n",
       "      <td>7129300520</td>\n",
       "      <td>20141013T000000</td>\n",
       "      <td>221900</td>\n",
       "      <td>3.0</td>\n",
       "      <td>1.00</td>\n",
       "      <td>1180.0</td>\n",
       "      <td>5650.0</td>\n",
       "      <td>1.0</td>\n",
       "      <td>0</td>\n",
       "      <td>0</td>\n",
       "      <td>...</td>\n",
       "      <td>7</td>\n",
       "      <td>1180</td>\n",
       "      <td>0</td>\n",
       "      <td>1955</td>\n",
       "      <td>0</td>\n",
       "      <td>98178</td>\n",
       "      <td>47.5112</td>\n",
       "      <td>-122.257</td>\n",
       "      <td>1340</td>\n",
       "      <td>5650</td>\n",
       "    </tr>\n",
       "    <tr>\n",
       "      <th>1</th>\n",
       "      <td>6414100192</td>\n",
       "      <td>20141209T000000</td>\n",
       "      <td>538000</td>\n",
       "      <td>3.0</td>\n",
       "      <td>2.25</td>\n",
       "      <td>2570.0</td>\n",
       "      <td>7242.0</td>\n",
       "      <td>2.0</td>\n",
       "      <td>0</td>\n",
       "      <td>0</td>\n",
       "      <td>...</td>\n",
       "      <td>7</td>\n",
       "      <td>2170</td>\n",
       "      <td>400</td>\n",
       "      <td>1951</td>\n",
       "      <td>1991</td>\n",
       "      <td>98125</td>\n",
       "      <td>47.7210</td>\n",
       "      <td>-122.319</td>\n",
       "      <td>1690</td>\n",
       "      <td>7639</td>\n",
       "    </tr>\n",
       "    <tr>\n",
       "      <th>2</th>\n",
       "      <td>5631500400</td>\n",
       "      <td>20150225T000000</td>\n",
       "      <td>180000</td>\n",
       "      <td>2.0</td>\n",
       "      <td>1.00</td>\n",
       "      <td>770.0</td>\n",
       "      <td>10000.0</td>\n",
       "      <td>1.0</td>\n",
       "      <td>0</td>\n",
       "      <td>0</td>\n",
       "      <td>...</td>\n",
       "      <td>6</td>\n",
       "      <td>770</td>\n",
       "      <td>0</td>\n",
       "      <td>1933</td>\n",
       "      <td>0</td>\n",
       "      <td>98028</td>\n",
       "      <td>47.7379</td>\n",
       "      <td>-122.233</td>\n",
       "      <td>2720</td>\n",
       "      <td>8062</td>\n",
       "    </tr>\n",
       "    <tr>\n",
       "      <th>3</th>\n",
       "      <td>2487200875</td>\n",
       "      <td>20141209T000000</td>\n",
       "      <td>604000</td>\n",
       "      <td>4.0</td>\n",
       "      <td>3.00</td>\n",
       "      <td>1960.0</td>\n",
       "      <td>5000.0</td>\n",
       "      <td>1.0</td>\n",
       "      <td>0</td>\n",
       "      <td>0</td>\n",
       "      <td>...</td>\n",
       "      <td>7</td>\n",
       "      <td>1050</td>\n",
       "      <td>910</td>\n",
       "      <td>1965</td>\n",
       "      <td>0</td>\n",
       "      <td>98136</td>\n",
       "      <td>47.5208</td>\n",
       "      <td>-122.393</td>\n",
       "      <td>1360</td>\n",
       "      <td>5000</td>\n",
       "    </tr>\n",
       "    <tr>\n",
       "      <th>4</th>\n",
       "      <td>1954400510</td>\n",
       "      <td>20150218T000000</td>\n",
       "      <td>510000</td>\n",
       "      <td>3.0</td>\n",
       "      <td>2.00</td>\n",
       "      <td>1680.0</td>\n",
       "      <td>8080.0</td>\n",
       "      <td>1.0</td>\n",
       "      <td>0</td>\n",
       "      <td>0</td>\n",
       "      <td>...</td>\n",
       "      <td>8</td>\n",
       "      <td>1680</td>\n",
       "      <td>0</td>\n",
       "      <td>1987</td>\n",
       "      <td>0</td>\n",
       "      <td>98074</td>\n",
       "      <td>47.6168</td>\n",
       "      <td>-122.045</td>\n",
       "      <td>1800</td>\n",
       "      <td>7503</td>\n",
       "    </tr>\n",
       "  </tbody>\n",
       "</table>\n",
       "<p>5 rows × 21 columns</p>\n",
       "</div>"
      ],
      "text/plain": [
       "           id             date   price  bedrooms  bathrooms  sqft_living  \\\n",
       "0  7129300520  20141013T000000  221900       3.0       1.00       1180.0   \n",
       "1  6414100192  20141209T000000  538000       3.0       2.25       2570.0   \n",
       "2  5631500400  20150225T000000  180000       2.0       1.00        770.0   \n",
       "3  2487200875  20141209T000000  604000       4.0       3.00       1960.0   \n",
       "4  1954400510  20150218T000000  510000       3.0       2.00       1680.0   \n",
       "\n",
       "   sqft_lot  floors  waterfront  view  ...  grade  sqft_above  sqft_basement  \\\n",
       "0    5650.0     1.0           0     0  ...      7        1180              0   \n",
       "1    7242.0     2.0           0     0  ...      7        2170            400   \n",
       "2   10000.0     1.0           0     0  ...      6         770              0   \n",
       "3    5000.0     1.0           0     0  ...      7        1050            910   \n",
       "4    8080.0     1.0           0     0  ...      8        1680              0   \n",
       "\n",
       "   yr_built  yr_renovated  zipcode      lat     long  sqft_living15  \\\n",
       "0      1955             0    98178  47.5112 -122.257           1340   \n",
       "1      1951          1991    98125  47.7210 -122.319           1690   \n",
       "2      1933             0    98028  47.7379 -122.233           2720   \n",
       "3      1965             0    98136  47.5208 -122.393           1360   \n",
       "4      1987             0    98074  47.6168 -122.045           1800   \n",
       "\n",
       "   sqft_lot15  \n",
       "0        5650  \n",
       "1        7639  \n",
       "2        8062  \n",
       "3        5000  \n",
       "4        7503  \n",
       "\n",
       "[5 rows x 21 columns]"
      ]
     },
     "execution_count": 26,
     "metadata": {},
     "output_type": "execute_result"
    }
   ],
   "source": [
    "df.head(5)"
   ]
  },
  {
   "cell_type": "code",
   "execution_count": 27,
   "id": "48f57bad",
   "metadata": {},
   "outputs": [
    {
     "name": "stdout",
     "output_type": "stream",
     "text": [
      "Dimensions (21613, 21)\n"
     ]
    }
   ],
   "source": [
    "# Printing out the rows and columns of the dataset to highlight the dimensions\n",
    "\n",
    "print(\"Dimensions\", df.shape)"
   ]
  },
  {
   "cell_type": "code",
   "execution_count": 28,
   "id": "0c565890",
   "metadata": {},
   "outputs": [
    {
     "name": "stdout",
     "output_type": "stream",
     "text": [
      "Data Types:/n id                 int64\n",
      "date              object\n",
      "price              int64\n",
      "bedrooms         float64\n",
      "bathrooms        float64\n",
      "sqft_living      float64\n",
      "sqft_lot         float64\n",
      "floors           float64\n",
      "waterfront         int64\n",
      "view               int64\n",
      "condition          int64\n",
      "grade              int64\n",
      "sqft_above         int64\n",
      "sqft_basement      int64\n",
      "yr_built           int64\n",
      "yr_renovated       int64\n",
      "zipcode            int64\n",
      "lat              float64\n",
      "long             float64\n",
      "sqft_living15      int64\n",
      "sqft_lot15         int64\n",
      "dtype: object\n"
     ]
    }
   ],
   "source": [
    "# The datatypes of each column are found using the dtypes command\n",
    "\n",
    "print(\"Data Types:/n\", df.dtypes)"
   ]
  },
  {
   "cell_type": "markdown",
   "id": "f7c7b332",
   "metadata": {},
   "source": [
    "## The filetype is csv and the import method was through Pandas"
   ]
  },
  {
   "cell_type": "code",
   "execution_count": 29,
   "id": "92d41e9d",
   "metadata": {},
   "outputs": [
    {
     "name": "stdout",
     "output_type": "stream",
     "text": [
      "id                  0\n",
      "date                0\n",
      "price               0\n",
      "bedrooms         1134\n",
      "bathrooms        1068\n",
      "sqft_living      1110\n",
      "sqft_lot         1044\n",
      "floors              0\n",
      "waterfront          0\n",
      "view                0\n",
      "condition           0\n",
      "grade               0\n",
      "sqft_above          0\n",
      "sqft_basement       0\n",
      "yr_built            0\n",
      "yr_renovated        0\n",
      "zipcode             0\n",
      "lat                 0\n",
      "long                0\n",
      "sqft_living15       0\n",
      "sqft_lot15          0\n",
      "dtype: int64\n"
     ]
    }
   ],
   "source": [
    "# Displaying the null values in each column\n",
    "\n",
    "null_data = df.isnull().sum()\n",
    "print(null_data)"
   ]
  },
  {
   "cell_type": "code",
   "execution_count": 30,
   "id": "9751bcb4",
   "metadata": {},
   "outputs": [
    {
     "data": {
      "text/plain": [
       "count      21613.000000\n",
       "mean      540088.141767\n",
       "std       367127.196483\n",
       "min        75000.000000\n",
       "25%       321950.000000\n",
       "50%       450000.000000\n",
       "75%       645000.000000\n",
       "max      7700000.000000\n",
       "Name: price, dtype: object"
      ]
     },
     "execution_count": 30,
     "metadata": {},
     "output_type": "execute_result"
    }
   ],
   "source": [
    "df['price'].describe().apply(lambda x: format(x, 'f'))"
   ]
  },
  {
   "cell_type": "code",
   "execution_count": 31,
   "id": "81934801",
   "metadata": {
    "scrolled": true
   },
   "outputs": [
    {
     "data": {
      "image/png": "[encoded data removed]",
      "text/plain": [
       "<Figure size 640x480 with 1 Axes>"
      ]
     },
     "metadata": {},
     "output_type": "display_data"
    }
   ],
   "source": [
    "plt.hist(df['price'], bins = 50)\n",
    "plt.show()"
   ]
  },
  {
   "cell_type": "code",
   "execution_count": 32,
   "id": "f375283c",
   "metadata": {},
   "outputs": [
    {
     "name": "stdout",
     "output_type": "stream",
     "text": [
      "522158.7840517445\n"
     ]
    }
   ],
   "source": [
    "trimmed_mean = trim_mean(df['price'], .01)\n",
    "print(trimmed_mean)"
   ]
  },
  {
   "cell_type": "code",
   "execution_count": 33,
   "id": "f21ef6bb",
   "metadata": {},
   "outputs": [
    {
     "name": "stdout",
     "output_type": "stream",
     "text": [
      "           id        date   price  bedrooms  bathrooms  sqft_living  sqft_lot  \\\n",
      "0  7129300520  2014-10-13  221900       3.0       1.00       1180.0    5650.0   \n",
      "1  6414100192  2014-12-09  538000       3.0       2.25       2570.0    7242.0   \n",
      "2  5631500400  2015-02-25  180000       2.0       1.00        770.0   10000.0   \n",
      "3  2487200875  2014-12-09  604000       4.0       3.00       1960.0    5000.0   \n",
      "4  1954400510  2015-02-18  510000       3.0       2.00       1680.0    8080.0   \n",
      "\n",
      "   floors  waterfront  view  ...  grade  sqft_above  sqft_basement  yr_built  \\\n",
      "0     1.0           0     0  ...      7        1180              0      1955   \n",
      "1     2.0           0     0  ...      7        2170            400      1951   \n",
      "2     1.0           0     0  ...      6         770              0      1933   \n",
      "3     1.0           0     0  ...      7        1050            910      1965   \n",
      "4     1.0           0     0  ...      8        1680              0      1987   \n",
      "\n",
      "   yr_renovated  zipcode      lat     long  sqft_living15  sqft_lot15  \n",
      "0             0    98178  47.5112 -122.257           1340        5650  \n",
      "1          1991    98125  47.7210 -122.319           1690        7639  \n",
      "2             0    98028  47.7379 -122.233           2720        8062  \n",
      "3             0    98136  47.5208 -122.393           1360        5000  \n",
      "4             0    98074  47.6168 -122.045           1800        7503  \n",
      "\n",
      "[5 rows x 21 columns]\n"
     ]
    }
   ],
   "source": [
    "# Clean, wrangle, and handle missing data\n",
    "\n",
    "# Imputing, reshaping, creating new dataframes?  \n",
    "# BOBBY\n",
    "\n",
    "# Taking the current date format with TXXXXX and turning it into a normal date format of YYYY MM DD \n",
    "df['date'] = pd.to_datetime(df['date'], format='%Y%m%dT%H%M%S')\n",
    "\n",
    "# Taking the new format out of the dataframe\n",
    "df['date'] = df['date'].dt.date\n",
    "\n",
    "# Saving a new edited CSV and then printing it out to show \n",
    "df.to_csv('house_file_v2.csv', index=False)\n",
    "date_time_cleaned = pd.read_csv('house_file_v2.csv')\n",
    "\n",
    "print(date_time_cleaned.head())"
   ]
  },
  {
   "cell_type": "code",
   "execution_count": 45,
   "id": "3de3f7f7",
   "metadata": {},
   "outputs": [],
   "source": [
    "# Working with the new dataframe created for the date change\n",
    "# Drop 0 bedrooms or 0 bathrooms\n",
    "date_time_cleaned = pd.read_csv('/Users/bobbymarriott/Desktop/Project/house_file_v2.csv')\n",
    "\n",
    "# We do not want to show any home with 0 bedrooms or 0 bathrooms\n",
    "date_time_cleaned = date_time_cleaned[(date_time_cleaned['bedrooms'] != 0) & (date_time_cleaned['bathrooms'] != 0)]\n",
    "\n",
    "# Saving this into a new csv again\n",
    "date_time_cleaned.to_csv('filtered_date_time_cleaned.csv', index=False)\n",
    "\n",
    "\n",
    "# Exclude luxury homes : past 3\n",
    "\n",
    "# Cut the bottom and top 1%"
   ]
  },
  {
   "cell_type": "code",
   "execution_count": null,
   "id": "59eb5326",
   "metadata": {},
   "outputs": [],
   "source": [
    "# BOBBY AND TORI\n",
    "\n",
    "# GroupBy Price, each of these 4 columns // Imputing"
   ]
  },
  {
   "cell_type": "code",
   "execution_count": 1,
   "id": "12a81c68",
   "metadata": {},
   "outputs": [],
   "source": [
    "# PATRICIO\n",
    "\n",
    "# Transform data with aggregation, normalization, and feature construction\n",
    "\n",
    "# Create a new column 'price per square foot' using the house price and the sqft_living\n",
    "\n",
    "# Turn condition column into categorical data\n",
    "\n",
    "# Convert year built to age \n",
    "\n",
    "# Change 33 bedroom to 3 "
   ]
  },
  {
   "cell_type": "code",
   "execution_count": 2,
   "id": "db79c2eb",
   "metadata": {},
   "outputs": [],
   "source": [
    "#EVERYONE \n",
    "\n",
    "# Reduce redudnant data and perform need-based discretization \n",
    "\n",
    "# Removing duplicates\n",
    "\n",
    "# Remove view, grade, long/lat "
   ]
  },
  {
   "cell_type": "code",
   "execution_count": null,
   "id": "5bfaad01",
   "metadata": {},
   "outputs": [],
   "source": []
  }
 ],
 "metadata": {
  "kernelspec": {
   "display_name": "Python 3 (ipykernel)",
   "language": "python",
   "name": "python3"
  },
  "language_info": {
   "codemirror_mode": {
    "name": "ipython",
    "version": 3
   },
   "file_extension": ".py",
   "mimetype": "text/x-python",
   "name": "python",
   "nbconvert_exporter": "python",
   "pygments_lexer": "ipython3",
   "version": "3.10.9"
  }
 },
 "nbformat": 4,
 "nbformat_minor": 5
}
