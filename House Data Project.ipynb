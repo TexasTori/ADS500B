{
 "cells": [
  {
   "cell_type": "code",
   "execution_count": 1,
   "id": "ba8ce860",
   "metadata": {},
   "outputs": [],
   "source": [
    "## Bobby\n",
    "\n",
    "###import packages###\n",
    "import pandas as pd\n",
    "import matplotlib.pyplot as plt\n",
    "from matplotlib.ticker import ScalarFormatter, MaxNLocator #formating number in charts\n",
    "from scipy.stats import trim_mean\n",
    "import os #to load csv to folder\n",
    "#new comment"
   ]
  },
  {
   "cell_type": "code",
   "execution_count": 2,
   "id": "1abcb9fc",
   "metadata": {},
   "outputs": [
    {
     "name": "stdout",
     "output_type": "stream",
     "text": [
      "/Users/patriciomartinez/Desktop/ADS500B/GroupProject/ADS500B/log_files\n"
     ]
    }
   ],
   "source": [
    "###Connection info for GitHub File###\n",
    "url = 'https://github.com/TexasTori/ADS500B/raw/23fed13154371851d00cb375e177636726bf8bc2/house_sales.csv'\n",
    "df_orig = pd.read_csv(url, sep=',')\n",
    "\n",
    "###set up to automate files print location for team###\n",
    "cwd = os.getcwd() \n",
    "log_prefix = os.path.join(cwd,'log_files')\n",
    "print(log_prefix)\n",
    "\n",
    "##'/Users/bobbymarriott/Desktop/Project/house_sales.csv'"
   ]
  },
  {
   "cell_type": "code",
   "execution_count": 4,
   "id": "66a0f0bb",
   "metadata": {},
   "outputs": [],
   "source": [
    "###Uncomment below for testing:###\n",
    "\n",
    "#df_orig.head()\n",
    "#df_orig.to_csv(os.path.join(log_prefix, \"testpywrite.csv\"), index=False)\n"
   ]
  },
  {
   "cell_type": "markdown",
   "id": "6c31b57a",
   "metadata": {},
   "source": [
    "In order to write data to a csv/txt file on your laptop, use the os.path.join()\n",
    "###### Example:\n",
    "df_test is the data you want to print to csv\n",
    "###### Python:\n",
    "df_orig.to_csv(os.path.join(log_prefix, \"testpywrite.csv\"), index=False)\n",
    "\n",
    "Copy and paste the above code and update the data frame name at the beginning and the text between the \" \" which will name your file."
   ]
  },
  {
   "cell_type": "code",
   "execution_count": 6,
   "id": "af07c507",
   "metadata": {},
   "outputs": [
    {
     "data": {
      "text/html": [
       "<div>\n",
       "<style scoped>\n",
       "    .dataframe tbody tr th:only-of-type {\n",
       "        vertical-align: middle;\n",
       "    }\n",
       "\n",
       "    .dataframe tbody tr th {\n",
       "        vertical-align: top;\n",
       "    }\n",
       "\n",
       "    .dataframe thead th {\n",
       "        text-align: right;\n",
       "    }\n",
       "</style>\n",
       "<table border=\"1\" class=\"dataframe\">\n",
       "  <thead>\n",
       "    <tr style=\"text-align: right;\">\n",
       "      <th></th>\n",
       "      <th>id</th>\n",
       "      <th>date</th>\n",
       "      <th>price</th>\n",
       "      <th>bedrooms</th>\n",
       "      <th>bathrooms</th>\n",
       "      <th>sqft_living</th>\n",
       "      <th>sqft_lot</th>\n",
       "      <th>floors</th>\n",
       "      <th>waterfront</th>\n",
       "      <th>view</th>\n",
       "      <th>...</th>\n",
       "      <th>grade</th>\n",
       "      <th>sqft_above</th>\n",
       "      <th>sqft_basement</th>\n",
       "      <th>yr_built</th>\n",
       "      <th>yr_renovated</th>\n",
       "      <th>zipcode</th>\n",
       "      <th>lat</th>\n",
       "      <th>long</th>\n",
       "      <th>sqft_living15</th>\n",
       "      <th>sqft_lot15</th>\n",
       "    </tr>\n",
       "  </thead>\n",
       "  <tbody>\n",
       "    <tr>\n",
       "      <th>0</th>\n",
       "      <td>7129300520</td>\n",
       "      <td>20141013T000000</td>\n",
       "      <td>221900.0</td>\n",
       "      <td>3.0</td>\n",
       "      <td>1.00</td>\n",
       "      <td>1180.0</td>\n",
       "      <td>5650.0</td>\n",
       "      <td>1.0</td>\n",
       "      <td>0</td>\n",
       "      <td>0</td>\n",
       "      <td>...</td>\n",
       "      <td>7</td>\n",
       "      <td>1180</td>\n",
       "      <td>0</td>\n",
       "      <td>1955</td>\n",
       "      <td>0</td>\n",
       "      <td>98178</td>\n",
       "      <td>47.5112</td>\n",
       "      <td>-122.257</td>\n",
       "      <td>1340</td>\n",
       "      <td>5650</td>\n",
       "    </tr>\n",
       "    <tr>\n",
       "      <th>1</th>\n",
       "      <td>6414100192</td>\n",
       "      <td>20141209T000000</td>\n",
       "      <td>538000.0</td>\n",
       "      <td>3.0</td>\n",
       "      <td>2.25</td>\n",
       "      <td>2570.0</td>\n",
       "      <td>7242.0</td>\n",
       "      <td>2.0</td>\n",
       "      <td>0</td>\n",
       "      <td>0</td>\n",
       "      <td>...</td>\n",
       "      <td>7</td>\n",
       "      <td>2170</td>\n",
       "      <td>400</td>\n",
       "      <td>1951</td>\n",
       "      <td>1991</td>\n",
       "      <td>98125</td>\n",
       "      <td>47.7210</td>\n",
       "      <td>-122.319</td>\n",
       "      <td>1690</td>\n",
       "      <td>7639</td>\n",
       "    </tr>\n",
       "    <tr>\n",
       "      <th>2</th>\n",
       "      <td>5631500400</td>\n",
       "      <td>20150225T000000</td>\n",
       "      <td>180000.0</td>\n",
       "      <td>2.0</td>\n",
       "      <td>1.00</td>\n",
       "      <td>770.0</td>\n",
       "      <td>10000.0</td>\n",
       "      <td>1.0</td>\n",
       "      <td>0</td>\n",
       "      <td>0</td>\n",
       "      <td>...</td>\n",
       "      <td>6</td>\n",
       "      <td>770</td>\n",
       "      <td>0</td>\n",
       "      <td>1933</td>\n",
       "      <td>0</td>\n",
       "      <td>98028</td>\n",
       "      <td>47.7379</td>\n",
       "      <td>-122.233</td>\n",
       "      <td>2720</td>\n",
       "      <td>8062</td>\n",
       "    </tr>\n",
       "    <tr>\n",
       "      <th>3</th>\n",
       "      <td>2487200875</td>\n",
       "      <td>20141209T000000</td>\n",
       "      <td>604000.0</td>\n",
       "      <td>4.0</td>\n",
       "      <td>3.00</td>\n",
       "      <td>1960.0</td>\n",
       "      <td>5000.0</td>\n",
       "      <td>1.0</td>\n",
       "      <td>0</td>\n",
       "      <td>0</td>\n",
       "      <td>...</td>\n",
       "      <td>7</td>\n",
       "      <td>1050</td>\n",
       "      <td>910</td>\n",
       "      <td>1965</td>\n",
       "      <td>0</td>\n",
       "      <td>98136</td>\n",
       "      <td>47.5208</td>\n",
       "      <td>-122.393</td>\n",
       "      <td>1360</td>\n",
       "      <td>5000</td>\n",
       "    </tr>\n",
       "    <tr>\n",
       "      <th>4</th>\n",
       "      <td>1954400510</td>\n",
       "      <td>20150218T000000</td>\n",
       "      <td>510000.0</td>\n",
       "      <td>3.0</td>\n",
       "      <td>2.00</td>\n",
       "      <td>1680.0</td>\n",
       "      <td>8080.0</td>\n",
       "      <td>1.0</td>\n",
       "      <td>0</td>\n",
       "      <td>0</td>\n",
       "      <td>...</td>\n",
       "      <td>8</td>\n",
       "      <td>1680</td>\n",
       "      <td>0</td>\n",
       "      <td>1987</td>\n",
       "      <td>0</td>\n",
       "      <td>98074</td>\n",
       "      <td>47.6168</td>\n",
       "      <td>-122.045</td>\n",
       "      <td>1800</td>\n",
       "      <td>7503</td>\n",
       "    </tr>\n",
       "  </tbody>\n",
       "</table>\n",
       "<p>5 rows × 21 columns</p>\n",
       "</div>"
      ],
      "text/plain": [
       "           id             date     price  bedrooms  bathrooms  sqft_living  \\\n",
       "0  7129300520  20141013T000000  221900.0       3.0       1.00       1180.0   \n",
       "1  6414100192  20141209T000000  538000.0       3.0       2.25       2570.0   \n",
       "2  5631500400  20150225T000000  180000.0       2.0       1.00        770.0   \n",
       "3  2487200875  20141209T000000  604000.0       4.0       3.00       1960.0   \n",
       "4  1954400510  20150218T000000  510000.0       3.0       2.00       1680.0   \n",
       "\n",
       "   sqft_lot  floors  waterfront  view  ...  grade  sqft_above  sqft_basement  \\\n",
       "0    5650.0     1.0           0     0  ...      7        1180              0   \n",
       "1    7242.0     2.0           0     0  ...      7        2170            400   \n",
       "2   10000.0     1.0           0     0  ...      6         770              0   \n",
       "3    5000.0     1.0           0     0  ...      7        1050            910   \n",
       "4    8080.0     1.0           0     0  ...      8        1680              0   \n",
       "\n",
       "   yr_built  yr_renovated  zipcode      lat     long  sqft_living15  \\\n",
       "0      1955             0    98178  47.5112 -122.257           1340   \n",
       "1      1951          1991    98125  47.7210 -122.319           1690   \n",
       "2      1933             0    98028  47.7379 -122.233           2720   \n",
       "3      1965             0    98136  47.5208 -122.393           1360   \n",
       "4      1987             0    98074  47.6168 -122.045           1800   \n",
       "\n",
       "   sqft_lot15  \n",
       "0        5650  \n",
       "1        7639  \n",
       "2        8062  \n",
       "3        5000  \n",
       "4        7503  \n",
       "\n",
       "[5 rows x 21 columns]"
      ]
     },
     "execution_count": 6,
     "metadata": {},
     "output_type": "execute_result"
    }
   ],
   "source": [
    "###view file sample###\n",
    "df_orig.head(5)"
   ]
  },
  {
   "cell_type": "code",
   "execution_count": 7,
   "id": "48f57bad",
   "metadata": {},
   "outputs": [
    {
     "name": "stdout",
     "output_type": "stream",
     "text": [
      "Dimensions (21613, 21)\n"
     ]
    }
   ],
   "source": [
    "###Printing out the rows and columns of the dataset to highlight the dimensions###\n",
    "print(\"Dimensions\", df_orig.shape)"
   ]
  },
  {
   "cell_type": "code",
   "execution_count": 8,
   "id": "0c565890",
   "metadata": {},
   "outputs": [
    {
     "name": "stdout",
     "output_type": "stream",
     "text": [
      "Data Types:/n id                 int64\n",
      "date              object\n",
      "price            float64\n",
      "bedrooms         float64\n",
      "bathrooms        float64\n",
      "sqft_living      float64\n",
      "sqft_lot         float64\n",
      "floors           float64\n",
      "waterfront         int64\n",
      "view               int64\n",
      "condition          int64\n",
      "grade              int64\n",
      "sqft_above         int64\n",
      "sqft_basement      int64\n",
      "yr_built           int64\n",
      "yr_renovated       int64\n",
      "zipcode            int64\n",
      "lat              float64\n",
      "long             float64\n",
      "sqft_living15      int64\n",
      "sqft_lot15         int64\n",
      "dtype: object\n"
     ]
    }
   ],
   "source": [
    "###The datatypes of each column are found using dtypes()###\n",
    "print(\"Data Types:/n\", df_orig.dtypes)"
   ]
  },
  {
   "cell_type": "markdown",
   "id": "f7c7b332",
   "metadata": {},
   "source": [
    "## The filetype is csv and the import method was through Pandas"
   ]
  },
  {
   "cell_type": "code",
   "execution_count": 9,
   "id": "92d41e9d",
   "metadata": {},
   "outputs": [
    {
     "name": "stdout",
     "output_type": "stream",
     "text": [
      "id                  0\n",
      "date                0\n",
      "price               0\n",
      "bedrooms         1134\n",
      "bathrooms        1068\n",
      "sqft_living      1110\n",
      "sqft_lot         1044\n",
      "floors              0\n",
      "waterfront          0\n",
      "view                0\n",
      "condition           0\n",
      "grade               0\n",
      "sqft_above          0\n",
      "sqft_basement       0\n",
      "yr_built            0\n",
      "yr_renovated        0\n",
      "zipcode             0\n",
      "lat                 0\n",
      "long                0\n",
      "sqft_living15       0\n",
      "sqft_lot15          0\n",
      "dtype: int64\n"
     ]
    }
   ],
   "source": [
    "###Null values count###\n",
    "null_data = df_orig.isnull().sum()\n",
    "print(null_data)"
   ]
  },
  {
   "cell_type": "code",
   "execution_count": 10,
   "id": "9751bcb4",
   "metadata": {},
   "outputs": [
    {
     "data": {
      "text/plain": [
       "count      21613.00\n",
       "mean      540088.14\n",
       "std       367127.20\n",
       "min        75000.00\n",
       "25%       321950.00\n",
       "50%       450000.00\n",
       "75%       645000.00\n",
       "max      7700000.00\n",
       "Name: price, dtype: object"
      ]
     },
     "execution_count": 10,
     "metadata": {},
     "output_type": "execute_result"
    }
   ],
   "source": [
    "df_orig['price'].describe().apply(lambda x: format(round(x,2), '.2f'))"
   ]
  },
  {
   "cell_type": "code",
   "execution_count": 11,
   "id": "81934801",
   "metadata": {
    "scrolled": false
   },
   "outputs": [
    {
     "data": {
      "image/png": "[encoded data removed]",
      "text/plain": [
       "<Figure size 640x480 with 1 Axes>"
      ]
     },
     "metadata": {},
     "output_type": "display_data"
    }
   ],
   "source": [
    "plt.hist(df_orig['price'], bins = 55)\n",
    "plt.show()"
   ]
  },
  {
   "cell_type": "code",
   "execution_count": 12,
   "id": "0fdb618f",
   "metadata": {},
   "outputs": [
    {
     "data": {
      "image/png": "[encoded data removed]",
      "text/plain": [
       "<Figure size 1000x300 with 1 Axes>"
      ]
     },
     "metadata": {},
     "output_type": "display_data"
    }
   ],
   "source": [
    "fig, ax = plt.subplots(figsize=(10, 3))\n",
    "ax.boxplot(df_orig['price'], vert=False)\n",
    "ax.ticklabel_format(style='plain', axis='x')\n",
    "\n",
    "###print out###\n",
    "plt.show()"
   ]
  },
  {
   "cell_type": "markdown",
   "id": "c979a4d9",
   "metadata": {},
   "source": [
    "## Clean, Wrangle and Handle Missing Data Step"
   ]
  },
  {
   "cell_type": "code",
   "execution_count": 13,
   "id": "f21ef6bb",
   "metadata": {},
   "outputs": [
    {
     "name": "stdout",
     "output_type": "stream",
     "text": [
      "           id        date     price  bedrooms  bathrooms  sqft_living  \\\n",
      "0  7129300520  2014-10-13  221900.0       3.0       1.00       1180.0   \n",
      "1  6414100192  2014-12-09  538000.0       3.0       2.25       2570.0   \n",
      "2  5631500400  2015-02-25  180000.0       2.0       1.00        770.0   \n",
      "3  2487200875  2014-12-09  604000.0       4.0       3.00       1960.0   \n",
      "4  1954400510  2015-02-18  510000.0       3.0       2.00       1680.0   \n",
      "\n",
      "   sqft_lot  floors  waterfront  view  ...  grade  sqft_above  sqft_basement  \\\n",
      "0    5650.0     1.0           0     0  ...      7        1180              0   \n",
      "1    7242.0     2.0           0     0  ...      7        2170            400   \n",
      "2   10000.0     1.0           0     0  ...      6         770              0   \n",
      "3    5000.0     1.0           0     0  ...      7        1050            910   \n",
      "4    8080.0     1.0           0     0  ...      8        1680              0   \n",
      "\n",
      "   yr_built  yr_renovated  zipcode      lat     long  sqft_living15  \\\n",
      "0      1955             0    98178  47.5112 -122.257           1340   \n",
      "1      1951          1991    98125  47.7210 -122.319           1690   \n",
      "2      1933             0    98028  47.7379 -122.233           2720   \n",
      "3      1965             0    98136  47.5208 -122.393           1360   \n",
      "4      1987             0    98074  47.6168 -122.045           1800   \n",
      "\n",
      "   sqft_lot15  \n",
      "0        5650  \n",
      "1        7639  \n",
      "2        8062  \n",
      "3        5000  \n",
      "4        7503  \n",
      "\n",
      "[5 rows x 21 columns]\n"
     ]
    }
   ],
   "source": [
    "# BOBBY\n",
    "\n",
    "# Taking the current date format with TXXXXX and turning it into a normal date format of YYYY MM DD \n",
    "\n",
    "df_orig['date'] = pd.to_datetime(df_orig['date'], format='%Y%m%dT%H%M%S')\n",
    "\n",
    "# Taking the new format out of the dataframe\n",
    "df_orig['date'] = df_orig['date'].dt.date\n",
    "\n",
    "# Saving a new edited CSV and then printing it out to show \n",
    "#df.to_csv('house_file_v2.csv', index=False)\n",
    "df_orig.to_csv(os.path.join(log_prefix, \"house_file_v2.csv\"), index=False)\n",
    "\n",
    "\n",
    "date_time_cleaned = pd.read_csv('house_file_v2.csv')\n",
    "\n",
    "print(date_time_cleaned.head())"
   ]
  },
  {
   "cell_type": "code",
   "execution_count": 20,
   "id": "8f82c0b6",
   "metadata": {},
   "outputs": [
    {
     "name": "stdout",
     "output_type": "stream",
     "text": [
      "count      21598.00\n",
      "mean      540200.32\n",
      "std       367125.43\n",
      "min        78000.00\n",
      "25%       322000.00\n",
      "50%       450000.00\n",
      "75%       645000.00\n",
      "max      7700000.00\n",
      "Name: price, dtype: object\n"
     ]
    }
   ],
   "source": [
    "date_time_cleaned = pd.read_csv('house_file_v2.csv')\n",
    "\n",
    "# filtering and saving the data\n",
    "date_time_cleaned = date_time_cleaned[(date_time_cleaned['bedrooms'] != 0) & (date_time_cleaned['bathrooms'] != 0)]\n",
    "date_time_cleaned.to_csv('filtered_date_time_cleaned.csv', index=False)\n",
    "\n",
    "# Descriptive statistics\n",
    "price_description = date_time_cleaned['price'].describe().apply(lambda x: format(round(x, 2), '.2f'))\n",
    "print(price_description)\n",
    "\n"
   ]
  },
  {
   "cell_type": "code",
   "execution_count": 22,
   "id": "50d352b8",
   "metadata": {
    "scrolled": false
   },
   "outputs": [
    {
     "data": {
      "text/plain": [
       "count      21167.000000\n",
       "mean      522238.229414\n",
       "std       283392.306850\n",
       "min       154000.000000\n",
       "25%       325000.000000\n",
       "50%       450000.000000\n",
       "75%       639000.000000\n",
       "max      1965000.000000\n",
       "Name: price, dtype: object"
      ]
     },
     "execution_count": 22,
     "metadata": {},
     "output_type": "execute_result"
    }
   ],
   "source": [
    "# Removing the top and bottom 1% of data in the price column \n",
    "date_time_cleaned = pd.read_csv('filtered_date_time_cleaned.csv')\n",
    "\n",
    "# Establishing lower and upper bound using the bottom and upper 1%\n",
    "upper_bound = date_time_cleaned['price'].quantile(0.99)\n",
    "lower_bound = date_time_cleaned['price'].quantile(0.01)\n",
    "\n",
    "# Only extracting the data in between the values above the lower bound and values lower than the upper bound\n",
    "date_time_cleaned = date_time_cleaned[(date_time_cleaned['price'] >= lower_bound) & (date_time_cleaned['price'] <= upper_bound)]\n",
    "\n",
    "date_time_cleaned.to_csv('filtered_price_cleaned.csv', index=False)\n",
    "\n",
    "# Describing the new dataframe with lower counts again as well as a new mean of 522,238 instead of the previous \n",
    "# 540,200\n",
    "date_time_cleaned['price'].describe().apply(lambda x: format(x, 'f'))"
   ]
  },
  {
   "cell_type": "code",
   "execution_count": 23,
   "id": "59eb5326",
   "metadata": {},
   "outputs": [
    {
     "name": "stdout",
     "output_type": "stream",
     "text": [
      "count    2.161300e+04\n",
      "mean     5.400881e+05\n",
      "std      3.671272e+05\n",
      "min      7.500000e+04\n",
      "25%      3.219500e+05\n",
      "50%      4.500000e+05\n",
      "75%      6.450000e+05\n",
      "max      7.700000e+06\n",
      "Name: price, dtype: float64\n",
      "price_group\n",
      "1    5460\n",
      "0    5404\n",
      "2    5376\n",
      "3    5373\n",
      "Name: count, dtype: int64\n"
     ]
    }
   ],
   "source": [
    "df = pd.read_csv('house_file_v2.csv')\n",
    "\n",
    "# Check the range of 'price' to determine bin edges\n",
    "print(df['price'].describe())\n",
    "\n",
    "# Create bins for the 'price' with quartiles or a custom range\n",
    "price_bins = pd.qcut(df['price'], q=4, labels=False)\n",
    "\n",
    "df['price_group'] = price_bins\n",
    "\n",
    "# Check the distribution of the groups\n",
    "print(df['price_group'].value_counts())\n",
    "\n",
    "df.to_csv('house_file_v2_grouped.csv', index=False)\n"
   ]
  },
  {
   "cell_type": "code",
   "execution_count": null,
   "id": "8e26fdec",
   "metadata": {},
   "outputs": [],
   "source": []
  },
  {
   "cell_type": "code",
   "execution_count": 25,
   "id": "12a81c68",
   "metadata": {},
   "outputs": [
    {
     "name": "stdout",
     "output_type": "stream",
     "text": [
      "           id        date     price  bedrooms  bathrooms  sqft_living  \\\n",
      "0  7129300520  2014-10-13  221900.0       3.0       1.00       1180.0   \n",
      "1  6414100192  2014-12-09  538000.0       3.0       2.25       2570.0   \n",
      "2  5631500400  2015-02-25  180000.0       2.0       1.00        770.0   \n",
      "3  2487200875  2014-12-09  604000.0       4.0       3.00       1960.0   \n",
      "4  1954400510  2015-02-18  510000.0       3.0       2.00       1680.0   \n",
      "\n",
      "   sqft_lot  floors  waterfront  view condition  grade  sqft_above  \\\n",
      "0    5650.0     1.0           0     0         3      7        1180   \n",
      "1    7242.0     2.0           0     0         3      7        2170   \n",
      "2   10000.0     1.0           0     0         3      6         770   \n",
      "3    5000.0     1.0           0     0         5      7        1050   \n",
      "4    8080.0     1.0           0     0         3      8        1680   \n",
      "\n",
      "   sqft_basement  yr_built  yr_renovated  zipcode      lat     long  \\\n",
      "0              0      1955             0    98178  47.5112 -122.257   \n",
      "1            400      1951          1991    98125  47.7210 -122.319   \n",
      "2              0      1933             0    98028  47.7379 -122.233   \n",
      "3            910      1965             0    98136  47.5208 -122.393   \n",
      "4              0      1987             0    98074  47.6168 -122.045   \n",
      "\n",
      "   sqft_living15  sqft_lot15  price_per_sqft  price_per_sqft_normalized  \\\n",
      "0           1340        5650      188.050847                  -0.691660   \n",
      "1           1690        7639      209.338521                  -0.498488   \n",
      "2           2720        8062      233.766234                  -0.276822   \n",
      "3           1360        5000      308.163265                   0.398285   \n",
      "4           1800        7503      303.571429                   0.356617   \n",
      "\n",
      "   avg_price_per_sqft  age  \n",
      "0          189.413607   68  \n",
      "1          283.495601   72  \n",
      "2          225.095539   90  \n",
      "3          337.442238   58  \n",
      "4          266.615575   36  \n"
     ]
    }
   ],
   "source": [
    "df = pd.read_csv('house_file_v2.csv')\n",
    "\n",
    "# Create a new column 'price per square foot'\n",
    "df['price_per_sqft'] = df['price'] / df['sqft_living']\n",
    "\n",
    "# Normalize the 'price_per_sqft' column\n",
    "price_per_sqft_mean = df['price_per_sqft'].mean()\n",
    "price_per_sqft_std = df['price_per_sqft'].std()\n",
    "df['price_per_sqft_normalized'] = (df['price_per_sqft'] - price_per_sqft_mean) / price_per_sqft_std\n",
    "\n",
    "# Calculate the average 'price per square foot' for each zipcode\n",
    "avg_price_per_sqft = df.groupby('zipcode')['price_per_sqft'].mean().reset_index(name='avg_price_per_sqft')\n",
    "df = pd.merge(df, avg_price_per_sqft, on='zipcode', how='left')\n",
    "\n",
    "# Convert 'condition' column into categorical data\n",
    "df['condition'] = df['condition'].astype('category')\n",
    "\n",
    "# Convert 'yr_built' to age\n",
    "current_year = 2023\n",
    "df['age'] = current_year - df['yr_built']\n",
    "\n",
    "# Change '33' bedrooms to '3'\n",
    "df.loc[df['bedrooms'] == 33, 'bedrooms'] = 3\n",
    "\n",
    "# Set display option to show all columns, if needed\n",
    "pd.set_option('display.max_columns', None)\n",
    "\n",
    "# Display the first few rows of the DataFrame to check\n",
    "print(df.head())\n"
   ]
  },
  {
   "cell_type": "code",
   "execution_count": 26,
   "id": "db79c2eb",
   "metadata": {},
   "outputs": [
    {
     "name": "stdout",
     "output_type": "stream",
     "text": [
      "           id        date     price  bedrooms  bathrooms  sqft_living  \\\n",
      "0  7129300520  2014-10-13  221900.0       3.0       1.00       1180.0   \n",
      "1  6414100192  2014-12-09  538000.0       3.0       2.25       2570.0   \n",
      "2  5631500400  2015-02-25  180000.0       2.0       1.00        770.0   \n",
      "3  2487200875  2014-12-09  604000.0       4.0       3.00       1960.0   \n",
      "4  1954400510  2015-02-18  510000.0       3.0       2.00       1680.0   \n",
      "\n",
      "   sqft_lot  floors  waterfront  condition  sqft_above  sqft_basement  \\\n",
      "0    5650.0     1.0           0          3        1180              0   \n",
      "1    7242.0     2.0           0          3        2170            400   \n",
      "2   10000.0     1.0           0          3         770              0   \n",
      "3    5000.0     1.0           0          5        1050            910   \n",
      "4    8080.0     1.0           0          3        1680              0   \n",
      "\n",
      "   yr_built  yr_renovated  zipcode  sqft_living15  sqft_lot15 price_category  \n",
      "0      1955             0    98178           1340        5650            low  \n",
      "1      1951          1991    98125           1690        7639           high  \n",
      "2      1933             0    98028           2720        8062            low  \n",
      "3      1965             0    98136           1360        5000           high  \n",
      "4      1987             0    98074           1800        7503           high  \n"
     ]
    }
   ],
   "source": [
    "df = pd.read_csv('house_file_v2.csv')\n",
    "\n",
    "# Removing duplicates\n",
    "df = df.drop_duplicates()\n",
    "\n",
    "# drop the columns 'view', 'grade', 'long', and 'lat'\n",
    "df = df.drop(['view', 'grade', 'long', 'lat'], axis=1)\n",
    "\n",
    "price_bins = [0, 250000, 500000, 750000, 1000000, df['price'].max()]\n",
    "price_labels = ['low', 'medium', 'high', 'very high', 'luxury']\n",
    "df['price_category'] = pd.cut(df['price'], bins=price_bins, labels=price_labels, include_lowest=True)\n",
    "\n",
    "# Save the transformed DataFrame\n",
    "df.to_csv('house_file_v2_cleaned.csv', index=False)\n",
    "\n",
    "# Display the first few rows to verify changes\n",
    "print(df.head())\n"
   ]
  },
  {
   "cell_type": "code",
   "execution_count": null,
   "id": "522bba84",
   "metadata": {},
   "outputs": [],
   "source": []
  }
 ],
 "metadata": {
  "kernelspec": {
   "display_name": "Python 3 (ipykernel)",
   "language": "python",
   "name": "python3"
  },
  "language_info": {
   "codemirror_mode": {
    "name": "ipython",
    "version": 3
   },
   "file_extension": ".py",
   "mimetype": "text/x-python",
   "name": "python",
   "nbconvert_exporter": "python",
   "pygments_lexer": "ipython3",
   "version": "3.11.4"
  }
 },
 "nbformat": 4,
 "nbformat_minor": 5
}
